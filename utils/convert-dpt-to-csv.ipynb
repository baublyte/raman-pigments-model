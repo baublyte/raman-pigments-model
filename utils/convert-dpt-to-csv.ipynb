{
 "cells": [
  {
   "cell_type": "code",
   "execution_count": 3,
   "metadata": {},
   "outputs": [
    {
     "name": "stdout",
     "output_type": "stream",
     "text": [
      "Converted PY74-conc-100_test-1.dpt to CSV\n",
      "Converted PY74-conc-20_test-1.dpt to CSV\n",
      "Converted PY74-conc-20_test-2.dpt to CSV\n",
      "Converted PY74-conc-20_test-3.dpt to CSV\n",
      "Converted PY74-conc-20_test-4.dpt to CSV\n",
      "Converted PY74-conc-20_test-5.dpt to CSV\n",
      "Converted PY74-conc-20_test-6.dpt to CSV\n",
      "Converted PY74-conc-20_test-7.dpt to CSV\n",
      "Converted PY74-conc-33_test-1.dpt to CSV\n",
      "Converted PY74-conc-33_test-2.dpt to CSV\n",
      "Converted PY74-conc-33_test-3.dpt to CSV\n",
      "Converted PY74-conc-33_test-4.dpt to CSV\n",
      "Converted PY74-conc-33_test-5.dpt to CSV\n",
      "Converted PY74-conc-33_test-6.dpt to CSV\n",
      "Converted PY74-conc-50_test-1.dpt to CSV\n",
      "Converted PY74-conc-50_test-2.dpt to CSV\n",
      "Converted PY74-conc-50_test-3.dpt to CSV\n",
      "Converted PY74-conc-50_test-4.dpt to CSV\n",
      "Converted PY74-conc-50_test-5.dpt to CSV\n",
      "Converted PY74-conc-66_test-1.dpt to CSV\n",
      "Converted PY74-conc-66_test-2.dpt to CSV\n",
      "Converted PY74-conc-66_test-3.dpt to CSV\n",
      "Converted PY74-conc-66_test-4.dpt to CSV\n",
      "Converted PY74-conc-66_test-5.dpt to CSV\n",
      "Converted PY74-conc-66_test-6.dpt to CSV\n",
      "Converted PY74-conc-66_test-7.dpt to CSV\n",
      "Converted PY74-conc-75_test-1.dpt to CSV\n",
      "Converted PY74-conc-75_test-2.dpt to CSV\n",
      "Converted PY74-conc-75_test-3.dpt to CSV\n",
      "Converted PY74-conc-75_test-4.dpt to CSV\n",
      "Converted PY74-conc-75_test-5.dpt to CSV\n",
      "Converted PY74-conc-75_test-6.dpt to CSV\n"
     ]
    }
   ],
   "source": [
    "import os\n",
    "import csv\n",
    "\n",
    "def dpt_to_csv(input_file, output_file):\n",
    "    with open(input_file, 'r') as dpt_file, open(output_file, 'w', newline='') as csv_file:\n",
    "        csv_writer = csv.writer(csv_file)\n",
    "        for line in dpt_file:\n",
    "            # Split the line by commas and write to CSV\n",
    "            csv_writer.writerow(line.strip().split(','))\n",
    "\n",
    "def convert_multiple_files(input_directory, output_directory):\n",
    "    # Create output directory if it doesn't exist\n",
    "    if not os.path.exists(output_directory):\n",
    "        os.makedirs(output_directory)\n",
    "\n",
    "    # Iterate through all files in the input directory\n",
    "    for filename in os.listdir(input_directory):\n",
    "        if filename.endswith(\".dpt\"):\n",
    "            input_path = os.path.join(input_directory, filename)\n",
    "            output_path = os.path.join(output_directory, filename[:-4] + \".csv\")\n",
    "            dpt_to_csv(input_path, output_path)\n",
    "            print(f\"Converted {filename} to CSV\")\n",
    "\n",
    "# Example usage\n",
    "input_dir = \"data/raw/yellow-dpt\"\n",
    "output_dir = \"data/yellow\"\n",
    "\n",
    "convert_multiple_files(input_dir, output_dir)\n"
   ]
  }
 ],
 "metadata": {
  "kernelspec": {
   "display_name": "raman",
   "language": "python",
   "name": "python3"
  },
  "language_info": {
   "codemirror_mode": {
    "name": "ipython",
    "version": 3
   },
   "file_extension": ".py",
   "mimetype": "text/x-python",
   "name": "python",
   "nbconvert_exporter": "python",
   "pygments_lexer": "ipython3",
   "version": "3.11.9"
  }
 },
 "nbformat": 4,
 "nbformat_minor": 2
}
