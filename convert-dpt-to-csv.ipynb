{
 "cells": [
  {
   "cell_type": "code",
   "execution_count": 2,
   "metadata": {},
   "outputs": [
    {
     "name": "stdout",
     "output_type": "stream",
     "text": [
      "Converted 0.dpt to CSV\n",
      "Converted 100.dpt to CSV\n",
      "Converted 20.0.dpt to CSV\n",
      "Converted 20.00.dpt to CSV\n",
      "Converted 20.000.dpt to CSV\n",
      "Converted 20.0000.dpt to CSV\n",
      "Converted 20.00000.dpt to CSV\n",
      "Converted 33.3.dpt to CSV\n",
      "Converted 33.30.dpt to CSV\n",
      "Converted 33.300.dpt to CSV\n",
      "Converted 33.3000.dpt to CSV\n",
      "Converted 33.30000.dpt to CSV\n",
      "Converted 33.300000.dpt to CSV\n",
      "Converted 50.0.dpt to CSV\n",
      "Converted 50.00.dpt to CSV\n",
      "Converted 50.000.dpt to CSV\n",
      "Converted 50.0000.dpt to CSV\n",
      "Converted 50.00000.dpt to CSV\n",
      "Converted 50.000000.dpt to CSV\n",
      "Converted 66.6.dpt to CSV\n",
      "Converted 66.60.dpt to CSV\n",
      "Converted 66.600.dpt to CSV\n",
      "Converted 66.6000.dpt to CSV\n",
      "Converted 66.60000.dpt to CSV\n",
      "Converted 66.600000.dpt to CSV\n",
      "Converted 66.6000000.dpt to CSV\n",
      "Converted 75.0.dpt to CSV\n",
      "Converted 75.00.dpt to CSV\n",
      "Converted 75.000.dpt to CSV\n",
      "Converted 75.0000.dpt to CSV\n",
      "Converted 75.00000.dpt to CSV\n",
      "Converted 75.000000.dpt to CSV\n"
     ]
    }
   ],
   "source": [
    "import os\n",
    "import csv\n",
    "\n",
    "def dpt_to_csv(input_file, output_file):\n",
    "    with open(input_file, 'r') as dpt_file, open(output_file, 'w', newline='') as csv_file:\n",
    "        csv_writer = csv.writer(csv_file)\n",
    "        for line in dpt_file:\n",
    "            # Split the line by commas and write to CSV\n",
    "            csv_writer.writerow(line.strip().split(','))\n",
    "\n",
    "def convert_multiple_files(input_directory, output_directory):\n",
    "    # Create output directory if it doesn't exist\n",
    "    if not os.path.exists(output_directory):\n",
    "        os.makedirs(output_directory)\n",
    "\n",
    "    # Iterate through all files in the input directory\n",
    "    for filename in os.listdir(input_directory):\n",
    "        if filename.endswith(\".dpt\"):\n",
    "            input_path = os.path.join(input_directory, filename)\n",
    "            output_path = os.path.join(output_directory, filename[:-4] + \".csv\")\n",
    "            dpt_to_csv(input_path, output_path)\n",
    "            print(f\"Converted {filename} to CSV\")\n",
    "\n",
    "# Example usage\n",
    "input_dir = \"data/dpt\"\n",
    "output_dir = \"data/csv-clean\"\n",
    "\n",
    "convert_multiple_files(input_dir, output_dir)\n"
   ]
  },
  {
   "cell_type": "markdown",
   "metadata": {},
   "source": [
    "# jgrhsjvew\n",
    "\n",
    "\n",
    "kjefkjfdsa\n"
   ]
  },
  {
   "cell_type": "code",
   "execution_count": null,
   "metadata": {},
   "outputs": [],
   "source": []
  },
  {
   "cell_type": "code",
   "execution_count": null,
   "metadata": {},
   "outputs": [],
   "source": []
  },
  {
   "cell_type": "code",
   "execution_count": null,
   "metadata": {},
   "outputs": [],
   "source": []
  },
  {
   "cell_type": "code",
   "execution_count": null,
   "metadata": {},
   "outputs": [],
   "source": []
  }
 ],
 "metadata": {
  "kernelspec": {
   "display_name": "raman",
   "language": "python",
   "name": "python3"
  },
  "language_info": {
   "codemirror_mode": {
    "name": "ipython",
    "version": 3
   },
   "file_extension": ".py",
   "mimetype": "text/x-python",
   "name": "python",
   "nbconvert_exporter": "python",
   "pygments_lexer": "ipython3",
   "version": "3.11.9"
  }
 },
 "nbformat": 4,
 "nbformat_minor": 2
}
